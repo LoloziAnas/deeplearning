{
  "nbformat": 4,
  "nbformat_minor": 0,
  "metadata": {
    "colab": {
      "name": "PredictingThePriceOfUsedCars_SVM.ipynb",
      "provenance": [],
      "collapsed_sections": [],
      "authorship_tag": "ABX9TyPmwPVRzH47D5IN+4bN4FoY",
      "include_colab_link": true
    },
    "kernelspec": {
      "name": "python3",
      "display_name": "Python 3"
    }
  },
  "cells": [
    {
      "cell_type": "markdown",
      "metadata": {
        "id": "view-in-github",
        "colab_type": "text"
      },
      "source": [
        "<a href=\"https://colab.research.google.com/github/LoloziAnas/deeplearning/blob/master/PredictingThePriceOfUsedCars_SVM.ipynb\" target=\"_parent\"><img src=\"https://colab.research.google.com/assets/colab-badge.svg\" alt=\"Open In Colab\"/></a>"
      ]
    },
    {
      "cell_type": "code",
      "metadata": {
        "id": "Iyv7bU9xnpUM"
      },
      "source": [
        "import pandas as pd\n",
        "import numpy as np\n",
        "import matplotlib.pyplot as plt \n",
        "%inline matplotlib"
      ],
      "execution_count": 19,
      "outputs": []
    },
    {
      "cell_type": "code",
      "metadata": {
        "id": "XI9b-Dqgn4UJ",
        "outputId": "5bf649fe-e1b5-4528-b955-bebfcb860649",
        "colab": {
          "base_uri": "https://localhost:8080/",
          "height": 206
        }
      },
      "source": [
        "# Import the dataset.\n",
        "dataset = pd.read_csv('toyota.csv')\n",
        "dataset.head()"
      ],
      "execution_count": 7,
      "outputs": [
        {
          "output_type": "execute_result",
          "data": {
            "text/html": [
              "<div>\n",
              "<style scoped>\n",
              "    .dataframe tbody tr th:only-of-type {\n",
              "        vertical-align: middle;\n",
              "    }\n",
              "\n",
              "    .dataframe tbody tr th {\n",
              "        vertical-align: top;\n",
              "    }\n",
              "\n",
              "    .dataframe thead th {\n",
              "        text-align: right;\n",
              "    }\n",
              "</style>\n",
              "<table border=\"1\" class=\"dataframe\">\n",
              "  <thead>\n",
              "    <tr style=\"text-align: right;\">\n",
              "      <th></th>\n",
              "      <th>model</th>\n",
              "      <th>year</th>\n",
              "      <th>price</th>\n",
              "      <th>transmission</th>\n",
              "      <th>mileage</th>\n",
              "      <th>fuelType</th>\n",
              "      <th>tax</th>\n",
              "      <th>mpg</th>\n",
              "      <th>engineSize</th>\n",
              "    </tr>\n",
              "  </thead>\n",
              "  <tbody>\n",
              "    <tr>\n",
              "      <th>0</th>\n",
              "      <td>GT86</td>\n",
              "      <td>2016</td>\n",
              "      <td>16000</td>\n",
              "      <td>Manual</td>\n",
              "      <td>24089</td>\n",
              "      <td>Petrol</td>\n",
              "      <td>265</td>\n",
              "      <td>36.2</td>\n",
              "      <td>2.0</td>\n",
              "    </tr>\n",
              "    <tr>\n",
              "      <th>1</th>\n",
              "      <td>GT86</td>\n",
              "      <td>2017</td>\n",
              "      <td>15995</td>\n",
              "      <td>Manual</td>\n",
              "      <td>18615</td>\n",
              "      <td>Petrol</td>\n",
              "      <td>145</td>\n",
              "      <td>36.2</td>\n",
              "      <td>2.0</td>\n",
              "    </tr>\n",
              "    <tr>\n",
              "      <th>2</th>\n",
              "      <td>GT86</td>\n",
              "      <td>2015</td>\n",
              "      <td>13998</td>\n",
              "      <td>Manual</td>\n",
              "      <td>27469</td>\n",
              "      <td>Petrol</td>\n",
              "      <td>265</td>\n",
              "      <td>36.2</td>\n",
              "      <td>2.0</td>\n",
              "    </tr>\n",
              "    <tr>\n",
              "      <th>3</th>\n",
              "      <td>GT86</td>\n",
              "      <td>2017</td>\n",
              "      <td>18998</td>\n",
              "      <td>Manual</td>\n",
              "      <td>14736</td>\n",
              "      <td>Petrol</td>\n",
              "      <td>150</td>\n",
              "      <td>36.2</td>\n",
              "      <td>2.0</td>\n",
              "    </tr>\n",
              "    <tr>\n",
              "      <th>4</th>\n",
              "      <td>GT86</td>\n",
              "      <td>2017</td>\n",
              "      <td>17498</td>\n",
              "      <td>Manual</td>\n",
              "      <td>36284</td>\n",
              "      <td>Petrol</td>\n",
              "      <td>145</td>\n",
              "      <td>36.2</td>\n",
              "      <td>2.0</td>\n",
              "    </tr>\n",
              "  </tbody>\n",
              "</table>\n",
              "</div>"
            ],
            "text/plain": [
              "   model  year  price transmission  mileage fuelType  tax   mpg  engineSize\n",
              "0   GT86  2016  16000       Manual    24089   Petrol  265  36.2         2.0\n",
              "1   GT86  2017  15995       Manual    18615   Petrol  145  36.2         2.0\n",
              "2   GT86  2015  13998       Manual    27469   Petrol  265  36.2         2.0\n",
              "3   GT86  2017  18998       Manual    14736   Petrol  150  36.2         2.0\n",
              "4   GT86  2017  17498       Manual    36284   Petrol  145  36.2         2.0"
            ]
          },
          "metadata": {
            "tags": []
          },
          "execution_count": 7
        }
      ]
    },
    {
      "cell_type": "code",
      "metadata": {
        "id": "XqD__-IboD01",
        "outputId": "70a43bc7-8400-43a5-f7f1-b78fa1b6b9cc",
        "colab": {
          "base_uri": "https://localhost:8080/",
          "height": 54
        }
      },
      "source": [
        "# Cleaning the data.\n",
        "\n",
        "print(dataset['transmission'].unique())\n",
        "#['Manual' 'Automatic' 'Semi-Auto' 'Other']\n",
        "\n",
        "#Exclude the case that contains Other.\n",
        "dataset = dataset[dataset.transmission != 'Other']\n",
        "\n",
        "print(dataset['fuelType'].unique())\n",
        "#['Petrol' 'Other' 'Hybrid' 'Diesel']\n",
        "\n",
        "#Exclude the case that contains Other.\n",
        "dataset = dataset[dataset.fuelType != 'Other']\n",
        "\n",
        "# Replace the qualitative with quantitative variables.\n",
        "\n",
        "#====================Transmission========================\n",
        "dataset['transmission'].replace('Manual',0,inplace=True)\n",
        "dataset['transmission'].replace('Automatic',1,inplace=True)\n",
        "dataset['transmission'].replace('Semi-Auto',2,inplace=True)\n",
        "\n",
        "#====================Fuel type============================\n",
        "dataset['fuelType'].replace('Petrol',0,inplace=True)\n",
        "dataset['fuelType'].replace('Diesel',1,inplace=True)\n",
        "dataset['fuelType'].replace('Hybrid',2,inplace=True)\n",
        "\n",
        "# Changing the type of the features fuelType and transmission from Series to integer.\n",
        "dataset['fuelType']=dataset['fuelType'].astype(int)\n",
        "dataset['transmission']=dataset['transmission'].astype(int)\n",
        "\n",
        "# Splitting data to features and target.\n",
        "feature_cols=['year','transmission','mileage','tax','mpg','engineSize']\n",
        "x = dataset[feature_cols]\n",
        "y = dataset['price']"
      ],
      "execution_count": 8,
      "outputs": [
        {
          "output_type": "stream",
          "text": [
            "['Manual' 'Automatic' 'Semi-Auto' 'Other']\n",
            "['Petrol' 'Other' 'Hybrid' 'Diesel']\n"
          ],
          "name": "stdout"
        }
      ]
    },
    {
      "cell_type": "code",
      "metadata": {
        "id": "SgFVhwyboLyG"
      },
      "source": [
        "# Splitting data into training and test data.\n",
        "from sklearn.model_selection import train_test_split\n",
        "x_train,x_test,y_train,y_test=train_test_split(x,y,random_state=42,test_size=0.2)"
      ],
      "execution_count": 9,
      "outputs": []
    },
    {
      "cell_type": "code",
      "metadata": {
        "id": "_eI6y6Tvd0fh"
      },
      "source": [
        "\n",
        "from sklearn import svm\n",
        "from sklearn.model_selection import GridSearchCV\n",
        "\n",
        "clf = svm.SVR()\n",
        "# defining parameter range \n",
        "param_grid = {'C': [ i for i in range(1,10)],'gamma': [1, 0.1, 0.01, 0.001, 0.0001],'epsilon':[i*0.1 for i  in range(1,10)],'kernel': ['rbf']}  \n",
        "\n",
        "parameters = {'C': [1000],'gamma': [0.001],'epsilon':[0.1],'kernel': ['rbf']}  \n",
        "\n",
        "paramgrid = {\"kernel\": [\"rbf\"],\n",
        "             \"C\"     : np.logspace(-9, 9, num=25, base=10),\n",
        "             \"gamma\" : np.logspace(-9, 9, num=25, base=10)}\n",
        "\n",
        "regr = GridSearchCV(clf,parameters, refit = True, verbose = 1)\n",
        "\n",
        "# fitting the model for grid search \n",
        "%time regr.fit(x_train,y_train)\n"
      ],
      "execution_count": null,
      "outputs": []
    },
    {
      "cell_type": "code",
      "metadata": {
        "id": "Nu7Hg0-wcxPA",
        "outputId": "e0900120-a5e8-4379-ad56-ea1c97bbc2e4",
        "colab": {
          "base_uri": "https://localhost:8080/",
          "height": 110
        }
      },
      "source": [
        "#**Using RandomizedSearchCV**\n",
        "\n",
        "#Same parameter space, but only test 250 random combinations.\n",
        "from sklearn.model_selection import RandomizedSearchCV, StratifiedKFold\n",
        "\n",
        "regr = RandomizedSearchCV(clf,\n",
        "                        param_distributions=paramgrid,\n",
        "                        n_iter=250,\n",
        "                        cv=StratifiedKFold(n_splits=2),\n",
        "                        verbose=1)\n",
        "regr.fit(x_train,y_train)\n",
        "\n"
      ],
      "execution_count": null,
      "outputs": [
        {
          "output_type": "stream",
          "text": [
            "Fitting 2 folds for each of 250 candidates, totalling 500 fits\n"
          ],
          "name": "stdout"
        },
        {
          "output_type": "stream",
          "text": [
            "/usr/local/lib/python3.6/dist-packages/sklearn/model_selection/_split.py:667: UserWarning: The least populated class in y has only 1 members, which is less than n_splits=2.\n",
            "  % (min_groups, self.n_splits)), UserWarning)\n",
            "[Parallel(n_jobs=1)]: Using backend SequentialBackend with 1 concurrent workers.\n"
          ],
          "name": "stderr"
        }
      ]
    },
    {
      "cell_type": "code",
      "metadata": {
        "id": "SnDjyzQ7pBDE",
        "outputId": "46170dee-e85d-4c5b-829d-04f5343074a1",
        "colab": {
          "base_uri": "https://localhost:8080/",
          "height": 72
        }
      },
      "source": [
        "\n",
        "# print best parameter after tuning \n",
        "print(regr.best_params_) \n",
        "  \n",
        "# print how our model looks after hyper-parameter tuning \n",
        "print(regr.best_estimator_) \n"
      ],
      "execution_count": 47,
      "outputs": [
        {
          "output_type": "stream",
          "text": [
            "{'C': 1000, 'epsilon': 0.1, 'gamma': 0.001, 'kernel': 'rbf'}\n",
            "SVR(C=1000, cache_size=200, coef0=0.0, degree=3, epsilon=0.1, gamma=0.001,\n",
            "    kernel='rbf', max_iter=-1, shrinking=True, tol=0.001, verbose=False)\n"
          ],
          "name": "stdout"
        }
      ]
    },
    {
      "cell_type": "code",
      "metadata": {
        "id": "JIkHIURd-fKH",
        "outputId": "1043978d-d527-4a0e-976f-50f3bac80c0c",
        "colab": {
          "base_uri": "https://localhost:8080/",
          "height": 35
        }
      },
      "source": [
        "pred_y_ = regr.predict(x_test)\n",
        "pred_y_\n",
        "y_test\n",
        "\n",
        "regr.score(x_train,y_train)"
      ],
      "execution_count": 48,
      "outputs": [
        {
          "output_type": "execute_result",
          "data": {
            "text/plain": [
              "0.13716727372563042"
            ]
          },
          "metadata": {
            "tags": []
          },
          "execution_count": 48
        }
      ]
    },
    {
      "cell_type": "code",
      "metadata": {
        "id": "PF1GFVjdAP6m",
        "outputId": "995e21d5-177c-4953-8aca-3b24f531fcd2",
        "colab": {
          "base_uri": "https://localhost:8080/",
          "height": 72
        }
      },
      "source": [
        "from sklearn.metrics import mean_squared_error\n",
        "from sklearn.metrics import r2_score\n",
        "from math import sqrt\n",
        "\n",
        "print(\"R2-score: %.2f\" % r2_score(pred_y_ , y_test) )\n",
        "print(\" (MSE): %.2f\" % sqrt(mean_squared_error(y_test, pred_y_))/\n",
        "print(\"Mean absolute error: %.2f\" % np.mean(np.absolute(pred_y_ - y_test)))\n"
      ],
      "execution_count": 50,
      "outputs": [
        {
          "output_type": "stream",
          "text": [
            "R2-score: -45.69\n",
            " (MSE): 41437078.70\n",
            "Mean absolute error: 4390.67\n"
          ],
          "name": "stdout"
        }
      ]
    }
  ]
}