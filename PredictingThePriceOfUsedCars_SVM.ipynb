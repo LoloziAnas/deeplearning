{
  "nbformat": 4,
  "nbformat_minor": 0,
  "metadata": {
    "colab": {
      "name": "PredictingThePriceOfUsedCars_SVM.ipynb",
      "provenance": [],
      "collapsed_sections": [],
      "authorship_tag": "ABX9TyPhFthkz3mskSh9mAbbX2zv",
      "include_colab_link": true
    },
    "kernelspec": {
      "name": "python3",
      "display_name": "Python 3"
    }
  },
  "cells": [
    {
      "cell_type": "markdown",
      "metadata": {
        "id": "view-in-github",
        "colab_type": "text"
      },
      "source": [
        "<a href=\"https://colab.research.google.com/github/LoloziAnas/deeplearning/blob/master/PredictingThePriceOfUsedCars_SVM.ipynb\" target=\"_parent\"><img src=\"https://colab.research.google.com/assets/colab-badge.svg\" alt=\"Open In Colab\"/></a>"
      ]
    },
    {
      "cell_type": "code",
      "metadata": {
        "id": "Iyv7bU9xnpUM"
      },
      "source": [
        "import pandas as pd\n",
        "import matplotlib.pyplot as plt "
      ],
      "execution_count": 1,
      "outputs": []
    },
    {
      "cell_type": "code",
      "metadata": {
        "id": "XI9b-Dqgn4UJ"
      },
      "source": [
        "# Import the dataset.\n",
        "dataset = pd.read_csv('toyota.csv')"
      ],
      "execution_count": null,
      "outputs": []
    },
    {
      "cell_type": "code",
      "metadata": {
        "id": "XqD__-IboD01"
      },
      "source": [
        "# Cleaning the data.\n",
        "\n",
        "print(dataset['transmission'].unique())\n",
        "#['Manual' 'Automatic' 'Semi-Auto' 'Other']\n",
        "\n",
        "#Exclude the case that contains Other.\n",
        "dataset = dataset[dataset.transmission != 'Other']\n",
        "\n",
        "print(dataset['fuelType'].unique())\n",
        "#['Petrol' 'Other' 'Hybrid' 'Diesel']\n",
        "\n",
        "#Exclude the case that contains Other.\n",
        "dataset = dataset[dataset.fuelType != 'Other']\n",
        "\n",
        "# Replace the qualitative with quantitative variables.\n",
        "\n",
        "#====================Transmission========================\n",
        "dataset['transmission'].replace('Manual',0,inplace=True)\n",
        "dataset['transmission'].replace('Automatic',1,inplace=True)\n",
        "dataset['transmission'].replace('Semi-Auto',2,inplace=True)\n",
        "\n",
        "#====================Fuel type============================\n",
        "dataset['fuelType'].replace('Petrol',0,inplace=True)\n",
        "dataset['fuelType'].replace('Diesel',1,inplace=True)\n",
        "dataset['fuelType'].replace('Hybrid',2,inplace=True)\n",
        "\n",
        "# Changing the type of the features fuelType and transmission from Series to integer.\n",
        "dataset['fuelType']=dataset['fuelType'].astype(int)\n",
        "dataset['transmission']=dataset['transmission'].astype(int)\n",
        "\n",
        "# Splitting data to features and target.\n",
        "feature_cols=['year','transmission','mileage','tax','mpg','engineSize']\n",
        "x = dataset[feature_cols]\n",
        "y = dataset.price"
      ],
      "execution_count": null,
      "outputs": []
    },
    {
      "cell_type": "code",
      "metadata": {
        "id": "SgFVhwyboLyG"
      },
      "source": [
        "# Splitting data into training and test data.\n",
        "from sklearn.model_selection import train_test_split\n",
        "x_train,x_test,y_train,y_test=train_test_split(x,y,random_state=42,test_size=0.2)"
      ],
      "execution_count": null,
      "outputs": []
    },
    {
      "cell_type": "code",
      "metadata": {
        "id": "_eI6y6Tvd0fh"
      },
      "source": [
        "\n",
        "from sklearn import svm\n",
        "from sklearn.model_selection import GridSearchCV\n",
        "\n",
        "clf = svm.SVR()\n",
        "# defining parameter range \n",
        "param_grid = {'C': [0.1, 1, 10, 100, 1000],'gamma': [1, 0.1, 0.01, 0.001, 0.0001],'kernel': ['rbf']}  \n",
        "\n",
        "regr = GridSearchCV(clf,param_gridو refit = True, verbose = 3)\n",
        "\n",
        "# fitting the model for grid search \n",
        "regr.fit(x_train,y_train)\n"
      ],
      "execution_count": null,
      "outputs": []
    },
    {
      "cell_type": "code",
      "metadata": {
        "id": "SnDjyzQ7pBDE"
      },
      "source": [
        "\n",
        "# print best parameter after tuning \n",
        "print(grid.best_params_) \n",
        "  \n",
        "# print how our model looks after hyper-parameter tuning \n",
        "print(grid.best_estimator_) \n"
      ],
      "execution_count": null,
      "outputs": []
    }
  ]
}