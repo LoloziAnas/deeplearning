{
  "nbformat": 4,
  "nbformat_minor": 0,
  "metadata": {
    "colab": {
      "name": "PredictingThePriceOfUsedCars_SVM.ipynb",
      "provenance": [],
      "authorship_tag": "ABX9TyPbgy5Dwp2oImHAahEM1sEI",
      "include_colab_link": true
    },
    "kernelspec": {
      "name": "python3",
      "display_name": "Python 3"
    }
  },
  "cells": [
    {
      "cell_type": "markdown",
      "metadata": {
        "id": "view-in-github",
        "colab_type": "text"
      },
      "source": [
        "<a href=\"https://colab.research.google.com/github/LoloziAnas/deeplearning/blob/master/PredictingThePriceOfUsedCars_SVM.ipynb\" target=\"_parent\"><img src=\"https://colab.research.google.com/assets/colab-badge.svg\" alt=\"Open In Colab\"/></a>"
      ]
    },
    {
      "cell_type": "code",
      "metadata": {
        "id": "rDvjtakWWJtq",
        "outputId": "5bb4c825-7ae1-4101-c7f0-765dae238313",
        "colab": {
          "base_uri": "https://localhost:8080/",
          "height": 665
        }
      },
      "source": [
        "# -*- coding: utf-8 -*-\n",
        "\"\"\"\n",
        "Created on Wed Sep 30 17:33:49 2020\n",
        "\n",
        "@author: achra\n",
        "\"\"\"\n",
        "# Neccessary modules.\n",
        "\n",
        "import pandas as pd\n",
        "#from sklearn.tree import export_graphviz\n",
        "import matplotlib.pyplot as plt \n",
        "\n",
        "# Import the dataset.\n",
        "\n",
        "dataset = pd.read_csv('toyota.csv')\n",
        "\n",
        "# Cleaning the data.\n",
        "\n",
        "print(dataset['transmission'].unique())\n",
        "#['Manual' 'Automatic' 'Semi-Auto' 'Other']\n",
        "\n",
        "#Exclude the case that contains Other.\n",
        "dataset = dataset[dataset.transmission != 'Other']\n",
        "\n",
        "print(dataset['fuelType'].unique())\n",
        "#['Petrol' 'Other' 'Hybrid' 'Diesel']\n",
        "\n",
        "#Exclude the case that contains Other.\n",
        "dataset = dataset[dataset.fuelType != 'Other']\n",
        "\n",
        "# Replace the qualitative with quantitative variables.\n",
        "\n",
        "#====================Transmission========================\n",
        "dataset['transmission'].replace('Manual',0,inplace=True)\n",
        "dataset['transmission'].replace('Automatic',1,inplace=True)\n",
        "dataset['transmission'].replace('Semi-Auto',2,inplace=True)\n",
        "\n",
        "#====================Fuel type============================\n",
        "dataset['fuelType'].replace('Petrol',0,inplace=True)\n",
        "dataset['fuelType'].replace('Diesel',1,inplace=True)\n",
        "dataset['fuelType'].replace('Hybrid',2,inplace=True)\n",
        "\n",
        "# Changing the type of the features fuelType and transmission from Series to integer.\n",
        "dataset['fuelType']=dataset['fuelType'].astype(int)\n",
        "dataset['transmission']=dataset['transmission'].astype(int)\n",
        "\n",
        "# Splitting data to features and target.\n",
        "feature_cols=['year','transmission','mileage','tax','mpg','engineSize']\n",
        "x = dataset[feature_cols]\n",
        "y = dataset.price\n",
        "\n",
        "# Splitting data into training and test data.\n",
        "from sklearn.model_selection import train_test_split\n",
        "x_train,x_test,y_train,y_test=train_test_split(x,y,random_state=42,test_size=0.2)\n",
        "\n",
        "# Decision Tree\n",
        "Scores = []\n",
        "from sklearn.tree import DecisionTreeRegressor\n",
        "for i in range(2,20):\n",
        "    tree = DecisionTreeRegressor(max_depth=i)\n",
        "    tree.fit(x_train,y_train)\n",
        "\n",
        "    # Predict the test output \n",
        "    y_pred = tree.predict(x_test)\n",
        "    score = tree.score(x_test,y_test)\n",
        "    Scores.append(score)\n",
        "\n",
        "Scores = [round(X,6) for X in Scores]\n",
        "for i in range(0,18):\n",
        "    print(Scores[i])\n",
        "    \n",
        "print('Maximum score is {} '.format(max(Scores)))\n",
        "\n",
        "\n",
        "plt.plot([x for x in range(2,20)],Scores)\n",
        "plt.plot(Scores.index(max(Scores))+2,max(Scores),'ro')\n",
        "plt.annotate(\"IDEAL MAX DEPTH\", (Scores.index(max(Scores))+3,max(Scores)))\n",
        "plt.xlabel(\"MAX DEPTH\")\n",
        "plt.ylabel(\"SCORE\")\n",
        "plt.savefig('max depth.png')\n",
        "\n",
        "\n",
        "    \n",
        "\n",
        "#        # Calculate the accuracy of the model\n",
        "#        score = tree.score(x_test,y_test)\n",
        "#print('DECISION TREE SCORE  : {}'.format(score))\n",
        "#\n",
        "## Predict a new input\n",
        "#df = pd.DataFrame({'year':[2013],'transmission':[0],'mileage':[10000],'tax':[265],'mpg':[36.2],'engineSize':[2.0]})\n",
        "#prediction = tree.predict(df)\n",
        "#\n",
        "#print('The estimated price for a car with those specification is : {}'.format(prediction))\n",
        "\n",
        "\n",
        "\n",
        "\n",
        "\n",
        "\n"
      ],
      "execution_count": 1,
      "outputs": [
        {
          "output_type": "stream",
          "text": [
            "['Manual' 'Automatic' 'Semi-Auto' 'Other']\n",
            "['Petrol' 'Other' 'Hybrid' 'Diesel']\n",
            "0.644531\n",
            "0.77579\n",
            "0.834321\n",
            "0.895538\n",
            "0.915575\n",
            "0.927473\n",
            "0.940534\n",
            "0.945443\n",
            "0.94484\n",
            "0.947654\n",
            "0.944589\n",
            "0.942217\n",
            "0.940696\n",
            "0.940387\n",
            "0.938142\n",
            "0.935619\n",
            "0.937417\n",
            "0.936403\n",
            "Maximum score is 0.947654 \n"
          ],
          "name": "stdout"
        },
        {
          "output_type": "display_data",
          "data": {
            "image/png": "[encoded data removed]",
            "text/plain": [
              "<Figure size 432x288 with 1 Axes>"
            ]
          },
          "metadata": {
            "tags": [],
            "needs_background": "light"
          }
        }
      ]
    }
  ]
}